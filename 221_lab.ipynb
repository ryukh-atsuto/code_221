{
  "nbformat": 4,
  "nbformat_minor": 0,
  "metadata": {
    "colab": {
      "provenance": [],
      "authorship_tag": "ABX9TyN6xnlQVQXORcUA66bZn1+m"
    },
    "kernelspec": {
      "name": "python3",
      "display_name": "Python 3"
    },
    "language_info": {
      "name": "python"
    }
  },
  "cells": [
    {
      "cell_type": "code",
      "execution_count": null,
      "metadata": {
        "id": "OGN3JG9qln9M"
      },
      "outputs": [],
      "source": [
        "import numpy as np\n",
        "def Adjacency_Matrix(mat):\n",
        "  node,edge=mat.shape()\n",
        "  zero_matrix = np.zeros((node-1,node-1))\n",
        "  for i in range(1,node+1):\n",
        "    for j in range(1,edge):\n",
        "      if mat[i][j]!=0:\n",
        "        zero_matrix[i][j]=mat[i][j]\n",
        "  return zero_matrix\n",
        "\n"
      ]
    },
    {
      "cell_type": "code",
      "source": [
        "def Adjacency_Matrix(mat, N, M):\n",
        "    graph = []\n",
        "    for i in range(N):\n",
        "        data = []\n",
        "        for j in range(N):\n",
        "            data.append(0)\n",
        "        graph.append(data)\n",
        "\n",
        "    for k in range(M):\n",
        "        u, v, w = map(int, mat[k].split())\n",
        "        graph[u-1][v-1] = w\n",
        "\n",
        "    for row in graph:\n",
        "        print(' '.join(map(str, row)))\n",
        "\n",
        "N, M = map(int, input().split())\n",
        "graph_input = []\n",
        "for i in range(M):\n",
        "    edge = input()\n",
        "    graph_input.append(edge)\n",
        "\n",
        "Adjacency_Matrix(graph_input, N, M)\n",
        "\n"
      ],
      "metadata": {
        "colab": {
          "base_uri": "https://localhost:8080/"
        },
        "id": "kQhzi5w16TYD",
        "outputId": "831fe8c9-af49-4abb-826f-0f4de902f344"
      },
      "execution_count": null,
      "outputs": [
        {
          "output_type": "stream",
          "name": "stdout",
          "text": [
            "4 3\n",
            "1 3 8\n",
            "3 2 5\n",
            "1 4 2\n",
            "0 0 8 2\n",
            "0 0 0 0\n",
            "0 5 0 0\n",
            "0 0 0 0\n"
          ]
        }
      ]
    },
    {
      "cell_type": "code",
      "source": [
        "def Adjacency_List_Representation(N,M,u,v,w):\n",
        "  dict_list={}\n",
        "  for i in range(1,N+1):\n",
        "      dict_list[i]=[]\n",
        "  for j in range(M):\n",
        "    tup=(v[j],w[j])\n",
        "    dict_list[u[j]].append(tup)\n",
        "  for key in range(1, N + 1):\n",
        "      print(f\"{key}:\", end=\"\")\n",
        "      for item in dict_list[key]:\n",
        "          print(f\"{item}\", end=\" \")\n",
        "      print()\n",
        "\n",
        "N, M = map(int, input().split())\n",
        "u = list(map(int, input().split()))\n",
        "v = list(map(int, input().split()))\n",
        "w = list(map(int, input().split()))\n",
        "Adjacency_List_Representation(N,M,u,v,w)\n"
      ],
      "metadata": {
        "colab": {
          "base_uri": "https://localhost:8080/"
        },
        "id": "VSDPmfeXA491",
        "outputId": "47526057-9dd8-48f1-e496-ada6f3ed19c5"
      },
      "execution_count": null,
      "outputs": [
        {
          "output_type": "stream",
          "name": "stdout",
          "text": [
            "4 5\n",
            "4 1 4 3 3\n",
            "3 2 2 2 1\n",
            "4 4 10 8 5\n",
            "1:(2, 4) \n",
            "2:\n",
            "3:(2, 8) (1, 5) \n",
            "4:(3, 4) (2, 10) \n"
          ]
        }
      ]
    },
    {
      "cell_type": "code",
      "source": [
        "N = int(input())\n",
        "matrix = []\n",
        "for i in range(N):\n",
        "    row = []\n",
        "    for j in range(N):\n",
        "        row.append(0)\n",
        "    matrix.append(row)\n",
        "for i in range(N):\n",
        "    line = list(map(int, input().split()))\n",
        "    k = line[0]\n",
        "    for j in range(1, k + 1):\n",
        "        matrix[i][line[j]] = 1\n",
        "for row in matrix:\n",
        "    print(' '.join(map(str, row)))"
      ],
      "metadata": {
        "colab": {
          "base_uri": "https://localhost:8080/"
        },
        "id": "FYYNsGVbQV2t",
        "outputId": "75293ca9-cfd3-4da2-f26f-68de7d1cbaa2"
      },
      "execution_count": null,
      "outputs": [
        {
          "output_type": "stream",
          "name": "stdout",
          "text": [
            "5\n",
            "2 1 2\n",
            "1 0\n",
            "1 0\n",
            "1 4\n",
            "1 3\n",
            "0 1 1 0 0\n",
            "1 0 0 0 0\n",
            "1 0 0 0 0\n",
            "0 0 0 0 1\n",
            "0 0 0 1 0\n"
          ]
        }
      ]
    },
    {
      "cell_type": "code",
      "source": [
        "n,m=map(int,input().split())\n",
        "u=list(map(int,input().split()))\n",
        "v=list(map(int,input().split()))\n",
        "dic={i:[] for i in range(1,n+1)}\n",
        "for i in range(m):\n",
        "    dic[u[i]].append(v[i])\n",
        "    dic[v[i]].append(u[i])\n",
        "for i,j in dic.items():\n",
        "    dic[i]=len(j)\n",
        "x=0\n",
        "for i,j in dic.items():\n",
        "    if j%2==1:\n",
        "        x+=1\n",
        "if x==0 or (x==2):\n",
        "    print(\"YES\")\n",
        "else:\n",
        "    print(\"NO\")"
      ],
      "metadata": {
        "id": "A5JRhS0VRiKd"
      },
      "execution_count": null,
      "outputs": []
    },
    {
      "cell_type": "code",
      "source": [
        "degree = [0] * (7 + 1)\n",
        "print(degree)"
      ],
      "metadata": {
        "colab": {
          "base_uri": "https://localhost:8080/"
        },
        "id": "eeUwn2x5TuHG",
        "outputId": "256703af-10e5-49ec-84d7-807b8ee81b24"
      },
      "execution_count": null,
      "outputs": [
        {
          "output_type": "stream",
          "name": "stdout",
          "text": [
            "[0, 0, 0, 0, 0, 0, 0, 0]\n"
          ]
        }
      ]
    },
    {
      "cell_type": "code",
      "source": [
        "def Seven_Bridges_Königsberg(n, m, u, v):\n",
        "    degree = [0] * (n + 1)\n",
        "    for i in range(m):\n",
        "        degree[u[i]] += 1\n",
        "        degree[v[i]] += 1\n",
        "\n",
        "    odd_count = 0\n",
        "    for i in range(1, n + 1):\n",
        "        if degree[i] % 2 == 1:\n",
        "            odd_count += 1\n",
        "\n",
        "    if odd_count == 0 or odd_count == 2:\n",
        "        print(\"YES\")\n",
        "    else:\n",
        "        print(\"NO\")\n",
        "\n",
        "n, m = map(int, input().split())\n",
        "start = list(map(int, input().split()))\n",
        "end = list(map(int, input().split()))\n",
        "Seven_Bridges_Königsberg(n, m, start, end)"
      ],
      "metadata": {
        "id": "KCJX16gdUCtu"
      },
      "execution_count": null,
      "outputs": []
    },
    {
      "cell_type": "code",
      "source": [
        "n,m=map(int,input().split())\n",
        "u=list(map(int,input().split()))\n",
        "v=list(map(int,input().split()))\n",
        "dic={i:0 for i in range(1,n+1)}\n",
        "for i in range(m):\n",
        "    dic[u[i]]-=1\n",
        "    dic[v[i]]+=1\n",
        "for i,j in dic.items():\n",
        "    print(j,end=\" \")"
      ],
      "metadata": {
        "id": "VRbdTyL-YdSw"
      },
      "execution_count": null,
      "outputs": []
    },
    {
      "cell_type": "code",
      "source": [
        "def Edge_Queries(n,m,u,v):\n",
        "    degree = [0] * (n + 1)\n",
        "    for i in range(m):\n",
        "        degree[u[i]] -= 1\n",
        "        degree[v[i]] += 1\n",
        "    for i in range(1, n + 1):\n",
        "      print(degree[i],end=\" \")\n",
        "##########################################\n",
        "n,m=map(int,input().split())\n",
        "u=list(map(int,input().split()))\n",
        "v=list(map(int,input().split()))\n",
        "Edge_Queries(n,m,u,v)\n",
        "\n"
      ],
      "metadata": {
        "colab": {
          "base_uri": "https://localhost:8080/"
        },
        "id": "GKOp_KbcYwOf",
        "outputId": "a6d109a6-576e-4380-df5a-6d59c0cd094f"
      },
      "execution_count": null,
      "outputs": [
        {
          "output_type": "stream",
          "name": "stdout",
          "text": [
            "5 10\n",
            "2 5 4 3 2 4 3 4 1 3\n",
            "5 1 5 5 1 2 2 1 3 4\n",
            "2 0 -2 -2 2 "
          ]
        }
      ]
    },
    {
      "cell_type": "code",
      "source": [
        "n=int(input())\n",
        "w=list(map(int,input().split()))\n",
        "available=[[-1,1],[0,1],[1,1],[-1,0],[1,0],[-1,-1],[0,-1],[1,-1]]\n",
        "final=[]\n",
        "for dx, dy in available:\n",
        "    x = w[0] + dx\n",
        "    y = w[1] + dy\n",
        "    if 1 <= x <= n and 1 <= y <= n:\n",
        "        final.append([x, y])\n",
        "print(len(final))\n",
        "for x, y in sorted(final):\n",
        "    print(x, y)"
      ],
      "metadata": {
        "id": "8aahCtkbabNY"
      },
      "execution_count": null,
      "outputs": []
    },
    {
      "cell_type": "code",
      "source": [
        "def The_King_of_Königsberg(N, x, y):\n",
        "    directions = [[-1,1],[0,1],[1,1],[-1,0],[1,0],[-1,-1],[0,-1],[1,-1]]\n",
        "    valid_moves = []\n",
        "    for dx, dy in directions:\n",
        "        nx = x + dx\n",
        "        ny = y + dy\n",
        "        if 1 <= nx <= N and 1 <= ny <= N:\n",
        "            valid_moves.append([nx, ny])\n",
        "    valid_moves.sort()\n",
        "    print(len(valid_moves))\n",
        "    for move_x,move_y in valid_moves:\n",
        "        print(move_x, move_y)\n",
        "\n",
        "\n",
        "N = int(input())\n",
        "x, y = map(int, input().split())\n",
        "The_King_of_Königsberg(N, x, y)"
      ],
      "metadata": {
        "id": "ciOnXBLXbrEg"
      },
      "execution_count": null,
      "outputs": []
    },
    {
      "cell_type": "code",
      "source": [
        "import math\n",
        "n,q=map(int,input().split())\n",
        "dic={i:[] for i in range(1,n+1)}\n",
        "for i,j in dic.items():\n",
        "    for k in range(1,n+1):\n",
        "        if i!=k and math.gcd(i,k)==1:\n",
        "            j.append(k)\n",
        "tt=[]\n",
        "for i in range(q):\n",
        "    a=list(map(int,input().split()))\n",
        "    tt.append(a)\n",
        "for i in tt:\n",
        "    x=i[0]\n",
        "    y=i[1]\n",
        "    if y<=len(dic[x]):\n",
        "        print((dic[x][y-1]))\n",
        "    else:\n",
        "        print(-1)"
      ],
      "metadata": {
        "id": "fz1B4f9EdZjJ"
      },
      "execution_count": null,
      "outputs": []
    },
    {
      "cell_type": "code",
      "source": [
        "import math\n",
        "N, Q = map(int, input().split())\n",
        "Graph = [[] for j in range(N + 1)]\n",
        "for i in range(1, N + 1):\n",
        "    for j in range(1, N + 1):\n",
        "        if i != j and math.gcd(i, j) == 1:\n",
        "            Graph[i].append(j)\n",
        "for l in range(Q):\n",
        "    x, y = map(int, input().split())\n",
        "    if y <= len(Graph[x]):\n",
        "        print(Graph[x][y - 1])\n",
        "    else:\n",
        "        print(-1)"
      ],
      "metadata": {
        "id": "_uOxdC3qh_Cb"
      },
      "execution_count": null,
      "outputs": []
    }
  ]
}