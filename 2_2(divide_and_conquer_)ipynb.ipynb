{
  "nbformat": 4,
  "nbformat_minor": 0,
  "metadata": {
    "colab": {
      "provenance": [],
      "authorship_tag": "ABX9TyO3FkzJFDJQHIq6PRhh45Zj",
      "include_colab_link": true
    },
    "kernelspec": {
      "name": "python3",
      "display_name": "Python 3"
    },
    "language_info": {
      "name": "python"
    }
  },
  "cells": [
    {
      "cell_type": "markdown",
      "metadata": {
        "id": "view-in-github",
        "colab_type": "text"
      },
      "source": [
        "<a href=\"https://colab.research.google.com/github/ryukh-atsuto/code_221/blob/main/2_2(divide_and_conquer_)ipynb.ipynb\" target=\"_parent\"><img src=\"https://colab.research.google.com/assets/colab-badge.svg\" alt=\"Open In Colab\"/></a>"
      ]
    },
    {
      "cell_type": "markdown",
      "source": [
        "QUEST_1\n"
      ],
      "metadata": {
        "id": "rU8UUDi7SaEk"
      }
    },
    {
      "cell_type": "code",
      "source": [
        "Count=0\n",
        "def merge(a, b):\n",
        "  global Count\n",
        "  i,j=0,0\n",
        "  soln=[]\n",
        "  while (i<len(a) and j<len(b)):\n",
        "    if (a[i]<b[j]):\n",
        "      soln.append(a[i])\n",
        "      i+=1\n",
        "    else:\n",
        "      soln.append(b[j])\n",
        "      Count+=1\n",
        "      j+=1\n",
        "  while(i<len(a)):\n",
        "    soln.append(a[i])\n",
        "    i+=1\n",
        "  while(j<len(b)):\n",
        "    soln.append(b[j])\n",
        "    j+=1\n",
        "  return soln\n",
        "\n",
        "def mergeSort(arr):\n",
        "    if len(arr) <= 1:\n",
        "        return arr\n",
        "    else:\n",
        "        mid = len(arr)//2\n",
        "        st=arr[0]\n",
        "        end=arr[len(arr)-1]\n",
        "        arr1=arr[:mid]\n",
        "        arr2=arr[mid:]\n",
        "        a1 = mergeSort(arr1)  # write the parameter\n",
        "        a2 = mergeSort(arr2)  # write the parameter\n",
        "        return merge(a1, a2)\n",
        "N=int(input())\n",
        "array = list(map(int,input().split()))\n",
        "arr=mergeSort(array)\n",
        "print(Count)\n",
        "print(arr)"
      ],
      "metadata": {
        "colab": {
          "base_uri": "https://localhost:8080/"
        },
        "id": "v6MOwI-tSdm7",
        "outputId": "d8d17210-fcaa-4f09-9f5c-62b912ac848a"
      },
      "execution_count": null,
      "outputs": [
        {
          "output_type": "stream",
          "name": "stdout",
          "text": [
            "5\n",
            "5 4 3 2 1\n",
            "7\n",
            "[1, 2, 3, 4, 5]\n"
          ]
        }
      ]
    },
    {
      "cell_type": "code",
      "source": [
        "Count = 0  # Global variable to count comparisons\n",
        "\n",
        "def merge(a, b):\n",
        "    global Count  # Declare Count as global\n",
        "    i, j = 0, 0\n",
        "    soln = []\n",
        "\n",
        "    while i < len(a) and j < len(b):\n",
        "        Count += 1  # Increment count for every comparison\n",
        "        if a[i] < b[j]:\n",
        "            soln.append(a[i])\n",
        "            i += 1\n",
        "        else:\n",
        "            soln.append(b[j])\n",
        "            j += 1\n",
        "\n",
        "    while i < len(a):\n",
        "        soln.append(a[i])\n",
        "        i += 1\n",
        "\n",
        "    while j < len(b):\n",
        "        soln.append(b[j])\n",
        "        j += 1\n",
        "\n",
        "    return soln\n",
        "\n",
        "def mergeSort(arr):\n",
        "    if len(arr) <= 1:\n",
        "        return arr\n",
        "    else:\n",
        "        mid = len(arr) // 2\n",
        "        arr1 = arr[:mid]\n",
        "        arr2 = arr[mid:]  # Fix: Include mid element in the second half\n",
        "        a1 = mergeSort(arr1)\n",
        "        a2 = mergeSort(arr2)\n",
        "        return merge(a1, a2)\n",
        "\n",
        "# Input Handling\n",
        "N = int(input())\n",
        "array = list(map(int, input().split()))\n",
        "\n",
        "# Sorting the array\n",
        "arr = mergeSort(array)\n",
        "\n",
        "# Output the number of comparisons and sorted array\n",
        "print(Count)\n",
        "print(*arr)"
      ],
      "metadata": {
        "colab": {
          "base_uri": "https://localhost:8080/"
        },
        "id": "xp4VZi7FZ14G",
        "outputId": "e76f559b-ac89-4f19-9d30-851ac1637f4f"
      },
      "execution_count": null,
      "outputs": [
        {
          "output_type": "stream",
          "name": "stdout",
          "text": [
            "5\n",
            "1 2 5 4 3\n",
            "6\n",
            "1 2 3 4 5\n"
          ]
        }
      ]
    },
    {
      "cell_type": "code",
      "source": [
        "def merge(a, b):\n",
        "    i, j = 0, 0\n",
        "    soln = []\n",
        "    count = 0\n",
        "\n",
        "    while i < len(a) and j < len(b):\n",
        "        if a[i] <= b[j]:\n",
        "            soln.append(a[i])\n",
        "            i += 1\n",
        "        else:\n",
        "            soln.append(b[j])\n",
        "            count += (len(a) - i)\n",
        "            j += 1\n",
        "    while i < len(a):\n",
        "        soln.append(a[i])\n",
        "        i += 1\n",
        "\n",
        "    while j < len(b):\n",
        "        soln.append(b[j])\n",
        "        j += 1\n",
        "    return soln, count\n",
        "\n",
        "def mergeSort(arr):\n",
        "    if len(arr) <= 1:\n",
        "        return arr, 0\n",
        "\n",
        "    mid = len(arr) // 2\n",
        "    left, left_count = mergeSort(arr[:mid])\n",
        "    right, right_count = mergeSort(arr[mid:])\n",
        "\n",
        "    merged, merge_count = merge(left, right)\n",
        "\n",
        "    return merged, left_count + right_count + merge_count\n",
        "\n",
        "N = int(input())\n",
        "array = list(map(int, input().split()))\n",
        "sorted_array, inversion_count = mergeSort(array)\n",
        "print(inversion_count)\n",
        "print(*sorted_array)"
      ],
      "metadata": {
        "colab": {
          "base_uri": "https://localhost:8080/"
        },
        "id": "0mKh9F-9dhyf",
        "outputId": "6ea8d3e3-222b-4911-baaf-e74bdd82d3f2"
      },
      "execution_count": null,
      "outputs": [
        {
          "output_type": "stream",
          "name": "stdout",
          "text": [
            "5\n",
            "5 4 3 2 1\n",
            "7\n",
            "1 2 3 4 5\n"
          ]
        }
      ]
    },
    {
      "cell_type": "markdown",
      "source": [
        "QUESTION_2"
      ],
      "metadata": {
        "id": "ggrlE37Vlwk_"
      }
    },
    {
      "cell_type": "code",
      "source": [
        "def maximum_sum_num(a, b):\n",
        "    # Calculate the sum of the pair and return the sum squared\n",
        "    total = a+ (b)**2\n",
        "    if (a)**2 > (b)**2:\n",
        "        arr=[a]\n",
        "        return arr, total\n",
        "    else:\n",
        "        arr=[b]\n",
        "        return arr, total\n",
        "\n",
        "def findingmax(arr):\n",
        "    # mod case for recursion\n",
        "    if len(arr) == 2:\n",
        "        biggest, total_sum = maximum_sum_num(arr[0], arr[1])\n",
        "        return biggest, total_sum\n",
        "\n",
        "    mid = len(arr) // 2\n",
        "    arr1 = arr[:mid]\n",
        "    arr2 = arr[mid:]\n",
        "\n",
        "    # Recursively find the maximum sums in both halves\n",
        "    biggest1, sum1 = findingmax(arr1)\n",
        "    biggest2, sum2 = findingmax(arr2)\n",
        "\n",
        "    # Compare and return the bigger result\n",
        "    total_sum = max(sum1, sum2)\n",
        "    if sum1 > sum2:\n",
        "        return biggest1, total_sum\n",
        "    else:\n",
        "        return biggest2, total_sum\n",
        "\n",
        "N = int(input())  # Length of array\n",
        "array = list(map(int, input().split()))  # The array elements\n",
        "\n",
        "# Finding the result using the recursive approach\n",
        "ans = findingmax(array)\n",
        "\n",
        "print(ans)"
      ],
      "metadata": {
        "colab": {
          "base_uri": "https://localhost:8080/",
          "height": 408
        },
        "id": "1I03Fw59lv1o",
        "outputId": "2e7d40c2-6862-458f-f76c-1cb424cc99d5"
      },
      "execution_count": null,
      "outputs": [
        {
          "name": "stdout",
          "output_type": "stream",
          "text": [
            "5\n",
            "4 3 1 5 6\n"
          ]
        },
        {
          "output_type": "error",
          "ename": "TypeError",
          "evalue": "'int' object is not subscriptable",
          "traceback": [
            "\u001b[0;31m---------------------------------------------------------------------------\u001b[0m",
            "\u001b[0;31mTypeError\u001b[0m                                 Traceback (most recent call last)",
            "\u001b[0;32m<ipython-input-15-32452865fbcc>\u001b[0m in \u001b[0;36m<cell line: 0>\u001b[0;34m()\u001b[0m\n\u001b[1;32m     28\u001b[0m \u001b[0;34m\u001b[0m\u001b[0m\n\u001b[1;32m     29\u001b[0m \u001b[0;34m\u001b[0m\u001b[0m\n\u001b[0;32m---> 30\u001b[0;31m \u001b[0mans\u001b[0m \u001b[0;34m=\u001b[0m \u001b[0mfindingmax\u001b[0m\u001b[0;34m(\u001b[0m\u001b[0marray\u001b[0m\u001b[0;34m)\u001b[0m\u001b[0;34m\u001b[0m\u001b[0;34m\u001b[0m\u001b[0m\n\u001b[0m\u001b[1;32m     31\u001b[0m \u001b[0;34m\u001b[0m\u001b[0m\n\u001b[1;32m     32\u001b[0m \u001b[0mprint\u001b[0m\u001b[0;34m(\u001b[0m\u001b[0mans\u001b[0m\u001b[0;34m)\u001b[0m\u001b[0;34m\u001b[0m\u001b[0;34m\u001b[0m\u001b[0m\n",
            "\u001b[0;32m<ipython-input-15-32452865fbcc>\u001b[0m in \u001b[0;36mfindingmax\u001b[0;34m(arr)\u001b[0m\n\u001b[1;32m     15\u001b[0m     \u001b[0marr2\u001b[0m \u001b[0;34m=\u001b[0m \u001b[0marr\u001b[0m\u001b[0;34m[\u001b[0m\u001b[0mmid\u001b[0m\u001b[0;34m:\u001b[0m\u001b[0;34m]\u001b[0m\u001b[0;34m\u001b[0m\u001b[0;34m\u001b[0m\u001b[0m\n\u001b[1;32m     16\u001b[0m \u001b[0;34m\u001b[0m\u001b[0m\n\u001b[0;32m---> 17\u001b[0;31m     \u001b[0mbiggest1\u001b[0m\u001b[0;34m,\u001b[0m \u001b[0msum1\u001b[0m \u001b[0;34m=\u001b[0m \u001b[0mfindingmax\u001b[0m\u001b[0;34m(\u001b[0m\u001b[0marr1\u001b[0m\u001b[0;34m)\u001b[0m\u001b[0;34m\u001b[0m\u001b[0;34m\u001b[0m\u001b[0m\n\u001b[0m\u001b[1;32m     18\u001b[0m     \u001b[0mbiggest2\u001b[0m\u001b[0;34m,\u001b[0m \u001b[0msum2\u001b[0m \u001b[0;34m=\u001b[0m \u001b[0mfindingmax\u001b[0m\u001b[0;34m(\u001b[0m\u001b[0marr2\u001b[0m\u001b[0;34m)\u001b[0m\u001b[0;34m\u001b[0m\u001b[0;34m\u001b[0m\u001b[0m\n\u001b[1;32m     19\u001b[0m \u001b[0;34m\u001b[0m\u001b[0m\n",
            "\u001b[0;32m<ipython-input-15-32452865fbcc>\u001b[0m in \u001b[0;36mfindingmax\u001b[0;34m(arr)\u001b[0m\n\u001b[1;32m      8\u001b[0m \u001b[0;32mdef\u001b[0m \u001b[0mfindingmax\u001b[0m\u001b[0;34m(\u001b[0m\u001b[0marr\u001b[0m\u001b[0;34m)\u001b[0m\u001b[0;34m:\u001b[0m\u001b[0;34m\u001b[0m\u001b[0;34m\u001b[0m\u001b[0m\n\u001b[1;32m      9\u001b[0m     \u001b[0;32mif\u001b[0m \u001b[0mlen\u001b[0m\u001b[0;34m(\u001b[0m\u001b[0marr\u001b[0m\u001b[0;34m)\u001b[0m \u001b[0;34m==\u001b[0m \u001b[0;36m2\u001b[0m\u001b[0;34m:\u001b[0m\u001b[0;34m\u001b[0m\u001b[0;34m\u001b[0m\u001b[0m\n\u001b[0;32m---> 10\u001b[0;31m         \u001b[0mbiggest\u001b[0m\u001b[0;34m,\u001b[0m \u001b[0mtotal_sum\u001b[0m \u001b[0;34m=\u001b[0m \u001b[0mmaximum_sum_num\u001b[0m\u001b[0;34m(\u001b[0m\u001b[0marr\u001b[0m\u001b[0;34m[\u001b[0m\u001b[0;36m0\u001b[0m\u001b[0;34m]\u001b[0m\u001b[0;34m,\u001b[0m \u001b[0marr\u001b[0m\u001b[0;34m[\u001b[0m\u001b[0;36m1\u001b[0m\u001b[0;34m]\u001b[0m\u001b[0;34m)\u001b[0m\u001b[0;34m\u001b[0m\u001b[0;34m\u001b[0m\u001b[0m\n\u001b[0m\u001b[1;32m     11\u001b[0m         \u001b[0;32mreturn\u001b[0m \u001b[0mbiggest\u001b[0m\u001b[0;34m,\u001b[0m \u001b[0mtotal_sum\u001b[0m\u001b[0;34m\u001b[0m\u001b[0;34m\u001b[0m\u001b[0m\n\u001b[1;32m     12\u001b[0m \u001b[0;34m\u001b[0m\u001b[0m\n",
            "\u001b[0;32m<ipython-input-15-32452865fbcc>\u001b[0m in \u001b[0;36mmaximum_sum_num\u001b[0;34m(a, b)\u001b[0m\n\u001b[1;32m      1\u001b[0m \u001b[0;32mdef\u001b[0m \u001b[0mmaximum_sum_num\u001b[0m\u001b[0;34m(\u001b[0m\u001b[0ma\u001b[0m\u001b[0;34m,\u001b[0m \u001b[0mb\u001b[0m\u001b[0;34m)\u001b[0m\u001b[0;34m:\u001b[0m\u001b[0;34m\u001b[0m\u001b[0;34m\u001b[0m\u001b[0m\n\u001b[0;32m----> 2\u001b[0;31m     \u001b[0mtotal\u001b[0m \u001b[0;34m=\u001b[0m \u001b[0ma\u001b[0m\u001b[0;34m[\u001b[0m\u001b[0;36m0\u001b[0m\u001b[0;34m]\u001b[0m \u001b[0;34m+\u001b[0m \u001b[0;34m(\u001b[0m\u001b[0mb\u001b[0m\u001b[0;34m[\u001b[0m\u001b[0;36m0\u001b[0m\u001b[0;34m]\u001b[0m\u001b[0;34m)\u001b[0m\u001b[0;34m**\u001b[0m\u001b[0;36m2\u001b[0m\u001b[0;34m\u001b[0m\u001b[0;34m\u001b[0m\u001b[0m\n\u001b[0m\u001b[1;32m      3\u001b[0m     \u001b[0;32mif\u001b[0m \u001b[0;34m(\u001b[0m\u001b[0ma\u001b[0m\u001b[0;34m[\u001b[0m\u001b[0;36m0\u001b[0m\u001b[0;34m]\u001b[0m\u001b[0;34m)\u001b[0m\u001b[0;34m**\u001b[0m\u001b[0;36m2\u001b[0m \u001b[0;34m>\u001b[0m \u001b[0;34m(\u001b[0m\u001b[0mb\u001b[0m\u001b[0;34m[\u001b[0m\u001b[0;36m0\u001b[0m\u001b[0;34m]\u001b[0m\u001b[0;34m)\u001b[0m\u001b[0;34m**\u001b[0m\u001b[0;36m2\u001b[0m\u001b[0;34m:\u001b[0m\u001b[0;34m\u001b[0m\u001b[0;34m\u001b[0m\u001b[0m\n\u001b[1;32m      4\u001b[0m         \u001b[0;32mreturn\u001b[0m \u001b[0ma\u001b[0m\u001b[0;34m,\u001b[0m \u001b[0mtotal\u001b[0m\u001b[0;34m\u001b[0m\u001b[0;34m\u001b[0m\u001b[0m\n\u001b[1;32m      5\u001b[0m     \u001b[0;32melse\u001b[0m\u001b[0;34m:\u001b[0m\u001b[0;34m\u001b[0m\u001b[0;34m\u001b[0m\u001b[0m\n",
            "\u001b[0;31mTypeError\u001b[0m: 'int' object is not subscriptable"
          ]
        }
      ]
    },
    {
      "cell_type": "code",
      "source": [
        "def maximum_sum_num(arr,st,end):\n",
        "    if st >= end:\n",
        "        return float('-inf')\n",
        "    if end-st==1:\n",
        "        return arr[st]+arr[end]**2\n",
        "    mid=(st+end)//2\n",
        "    left=maximum_sum_num(arr,st,mid)\n",
        "    right=maximum_sum_num(arr,mid+1,end)\n",
        "    Middle=cross(arr,st,end,mid)\n",
        "    return(max(left,right,Middle))\n",
        "def cross(arr,l,r,mid):\n",
        "    left_max=float('-inf')\n",
        "    for i in range(l,mid+1):\n",
        "        left_max=max(left_max,arr[i])\n",
        "    total=float('-inf')\n",
        "    for j in range(mid+1,r+1):\n",
        "        total=max(total,(left_max+arr[j]**2))\n",
        "    return total\n",
        "N=int(input())\n",
        "arr = list(map(int, input().split()))\n",
        "print(maximum_sum_num(arr,0,N-1))"
      ],
      "metadata": {
        "colab": {
          "base_uri": "https://localhost:8080/"
        },
        "id": "xvvI-oDG6e6l",
        "outputId": "4d24cdac-0721-4e2b-f6d7-1dc6b93f87e7"
      },
      "execution_count": null,
      "outputs": [
        {
          "output_type": "stream",
          "name": "stdout",
          "text": [
            "5\n",
            "4 3 1 5 6\n",
            "41\n"
          ]
        }
      ]
    },
    {
      "cell_type": "code",
      "source": [
        "def x(arr,l,r):\n",
        "    if l >= r:\n",
        "        return float('-inf')\n",
        "    if r-l==1:\n",
        "        return arr[l]+arr[r]**2\n",
        "    mid=(l+r)//2\n",
        "    left=x(arr,l,mid)\n",
        "    right=x(arr,mid+1,r)\n",
        "    exception=cross(arr,l,r,mid)\n",
        "    return(max(left,right,exception))\n",
        "def cross(arr,l,r,mid):\n",
        "\n",
        "    lemax=float('-inf')\n",
        "    for i in range(l,mid+1):\n",
        "        lemax=max(lemax,arr[i])\n",
        "    sum=float('-inf')\n",
        "    for j in range(mid+1,r+1):\n",
        "        sum=max(sum,(lemax+arr[j]**2))\n",
        "    return sum\n",
        "N=int(input())\n",
        "arr = list(map(int, input().split()))\n",
        "print(x(arr,0,N-1))"
      ],
      "metadata": {
        "id": "-k_KLSC7714a"
      },
      "execution_count": null,
      "outputs": []
    },
    {
      "cell_type": "code",
      "source": [
        "def mod_exp(a, n, m):\n",
        "    result = 1\n",
        "    mod = a % m\n",
        "    while n > 0:\n",
        "        if n % 2 == 1:\n",
        "            result = (result * mod) % m\n",
        "        mod = (mod * mod) % m\n",
        "        n //= 2\n",
        "    return result\n",
        "\n",
        "def sum_mod_exp(a, n, m):\n",
        "    if n == 1:\n",
        "        return a % m\n",
        "\n",
        "    half_sum = sum_mod_exp(a, n // 2, m)\n",
        "    half_pow = mod_exp(a, n // 2, m)\n",
        "\n",
        "    if n % 2 == 0:\n",
        "        return (half_sum * (1 + half_pow)) % m\n",
        "    else:\n",
        "        return (half_sum * (1 + half_pow) + mod_exp(a, n, m)) % m\n",
        "\n",
        "def solve(a, n, m):\n",
        "    return sum_mod_exp(a, n, m)\n",
        "\n",
        "N = int(input())\n",
        "arr = []\n",
        "for _ in range(N):\n",
        "    a, n, m = map(int, input().split())\n",
        "    arr.append(str(solve(a, n, m)))\n",
        "\n",
        "print(\"\\n\".join(arr))"
      ],
      "metadata": {
        "id": "28Ypp7YN9UON"
      },
      "execution_count": null,
      "outputs": []
    },
    {
      "cell_type": "code",
      "source": [
        "def Fast_MOD_Drift(num1,num2,mod):\n",
        "    if num2==0:\n",
        "        return 1\n",
        "    ans= Fast_MOD_Drift(num1,num2//2,mod)\n",
        "    ans= (ans**2)% mod\n",
        "    if num2%2==0:\n",
        "        return ans\n",
        "    else:\n",
        "        return (ans*(num1%mod))% mod\n",
        "\n",
        "\n",
        "N=input()\n",
        "num1, num2 = map(int, N.split())\n",
        "\n",
        "print(Fast_MOD_Drift(num1,num2,107))"
      ],
      "metadata": {
        "colab": {
          "base_uri": "https://localhost:8080/"
        },
        "id": "uevDlkZt_0u1",
        "outputId": "fafd8342-1384-4e72-f1a5-9c923af5e221"
      },
      "execution_count": null,
      "outputs": [
        {
          "output_type": "stream",
          "name": "stdout",
          "text": [
            "100 3\n",
            "85\n"
          ]
        }
      ]
    },
    {
      "cell_type": "code",
      "source": [
        "def solve(a,b,m):\n",
        "    if b==0:\n",
        "        return 1\n",
        "    hal=solve(a,b//2,m)\n",
        "    hal=(hal*hal)%m\n",
        "    if b%2==0:\n",
        "        return hal\n",
        "    else:\n",
        "        return (hal*(a%m))%m\n",
        "\n",
        "\n",
        "N=input()\n",
        "tem=N.split()\n",
        "a=int(tem[0])\n",
        "b=int(tem[1])\n",
        "print(solve(a,b,107))"
      ],
      "metadata": {
        "id": "kG5Qb42nBBhN"
      },
      "execution_count": null,
      "outputs": []
    },
    {
      "cell_type": "code",
      "source": [
        "def mod_exp(a, n, m):\n",
        "    result = 1\n",
        "    mod = a % m\n",
        "    while n > 0:\n",
        "        if n % 2 == 1:\n",
        "            result = (result * mod) % m\n",
        "        mod = (mod * mod) % m\n",
        "        n //= 2\n",
        "    return result\n",
        "\n",
        "def sum_mod_exp(a, n, m):\n",
        "    if n == 1:\n",
        "        return a % m\n",
        "\n",
        "    half_sum = sum_mod_exp(a, n // 2, m)\n",
        "    half_pow = mod_exp(a, n // 2, m)\n",
        "\n",
        "    if n % 2 == 0:\n",
        "        return (half_sum * (1 + half_pow)) % m\n",
        "    else:\n",
        "        return (half_sum * (1 + half_pow) + mod_exp(a, n, m)) % m\n",
        "\n",
        "def solve(a, n, m):\n",
        "    return sum_mod_exp(a, n, m)\n",
        "\n",
        "N = int(input())\n",
        "arr = []\n",
        "for _ in range(N):\n",
        "    a, n, m = map(int, input().split())\n",
        "    arr.append(str(solve(a, n, m)))\n",
        "\n",
        "print(\"\\n\".join(arr))"
      ],
      "metadata": {
        "id": "pXu_Unzc513H"
      },
      "execution_count": null,
      "outputs": []
    },
    {
      "cell_type": "code",
      "source": [
        "def mod_exp(a, n, m):\n",
        "    ans = 1\n",
        "    mod = a % m\n",
        "    while n > 0:\n",
        "        if n % 2 == 1:\n",
        "            ans = (ans * mod) % m\n",
        "        mod = (mod * mod) % m\n",
        "        n //= 2\n",
        "    return ans\n",
        "\n",
        "def sum_mod_exp(a, n, m):\n",
        "    if n == 1:\n",
        "        return a % m\n",
        "\n",
        "    half_total = sum_mod_exp(a, n // 2, m)\n",
        "    half_pow = mod_exp(a, n // 2, m)\n",
        "\n",
        "    if n % 2 == 0:\n",
        "        return (half_total * (1 + half_pow)) % m\n",
        "    else:\n",
        "        return (half_total * (1 + half_pow) + mod_exp(a, n, m)) % m\n",
        "\n",
        "\n",
        "\n",
        "N = int(input())\n",
        "arr = []\n",
        "for _ in range(N):\n",
        "    a, n, m = map(int, input().split())\n",
        "    print((sum_mod_exp(a, n, m)))"
      ],
      "metadata": {
        "id": "6tsYEHU683D-"
      },
      "execution_count": null,
      "outputs": []
    },
    {
      "cell_type": "code",
      "source": [
        "def build_balanced_bst(arr,res):\n",
        "    left=0\n",
        "    right=len(arr)-1\n",
        "    if not arr:\n",
        "        return\n",
        "    mid=(left+right)//2\n",
        "    res.append(arr[mid])\n",
        "    build_balanced_bst(arr[:mid],res)\n",
        "    build_balanced_bst(arr[mid+1:],res)\n",
        "\n",
        "N = int(input())\n",
        "array = list(map(int, input().split()))\n",
        "new_bst = []\n",
        "build_balanced_bst(array,new_bst)\n",
        "for i in new_bst:\n",
        "    print(i,end=\" \")"
      ],
      "metadata": {
        "id": "g5e0SBHb9HwO"
      },
      "execution_count": null,
      "outputs": []
    },
    {
      "cell_type": "code",
      "source": [
        "def build_balanced_bst(arr, left, right):\n",
        "    if left > right:\n",
        "        return\n",
        "\n",
        "    mid = (left + right) // 2  # Find the middle index\n",
        "    print(arr[mid], end=\" \")   # Print the middle element first\n",
        "\n",
        "    build_balanced_bst(arr, left, mid - 1)  # Build the left part\n",
        "    build_balanced_bst(arr, mid + 1, right) # Build the right part\n",
        "\n",
        "# Read input\n",
        "N = int(input())  # Read N\n",
        "A = list(map(int, input().split()))  # Read the sorted array\n",
        "\n",
        "# Build the BST in a balanced way\n",
        "build_balanced_bst(A, 0, N - 1)"
      ],
      "metadata": {
        "id": "486o3Cib9jRm"
      },
      "execution_count": null,
      "outputs": []
    },
    {
      "cell_type": "code",
      "source": [
        "def build_postorder(inorder, preorder):\n",
        "    if not inorder:\n",
        "        return []\n",
        "\n",
        "    root = preorder[0]\n",
        "    root_index = inorder.index(root)\n",
        "\n",
        "    left_subtree = build_postorder(inorder[:root_index], preorder[1:root_index + 1])\n",
        "    right_subtree = build_postorder(inorder[root_index + 1:], preorder[root_index + 1:])\n",
        "\n",
        "    return left_subtree + right_subtree + [root]\n",
        "\n",
        "\n",
        "N = int(input())  # Number of nodes\n",
        "in_order_bst = list(map(int, input().split()))\n",
        "pre_order_bst = list(map(int, input().split()))\n",
        "\n",
        "post_order_bst = build_postorder(in_order_bst, pre_order_bst)\n",
        "for i in post_order_bst:\n",
        "    print(i,end=\" \")\n"
      ],
      "metadata": {
        "id": "F5ieefeu_MRu"
      },
      "execution_count": null,
      "outputs": []
    },
    {
      "cell_type": "code",
      "source": [
        "def solve(inorder,preorder):\n",
        "    if not inorder:\n",
        "        return []\n",
        "    root=preorder[0]\n",
        "    x=inorder.index(root)\n",
        "    Lpost=solve(inorder[0:x],preorder[1:x+1])\n",
        "    Rpost=solve(inorder[x+1:],preorder[x+1:])\n",
        "    return Lpost+Rpost+[root]\n",
        "N=int(input())\n",
        "iin = list(map(int, input().split()))\n",
        "pre = list(map(int, input().split()))\n",
        "post=solve(iin,pre)\n",
        "for i in post:\n",
        "    print(i,end=\" \")"
      ],
      "metadata": {
        "id": "dDckk3MT_M42"
      },
      "execution_count": null,
      "outputs": []
    }
  ]
}